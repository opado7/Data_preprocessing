{
 "cells": [
  {
   "cell_type": "markdown",
   "id": "deb45cdd-676c-43aa-83a6-7abc32a1b86a",
   "metadata": {},
   "source": [
    "## 데이터 프레임(DataFrame)\n",
    "- 데이터 분석에 일반적으로 사용되는 표 형식의 데이터 구조\n",
    "- 행과 열로 구성된 다양한 형태를 가지고 있는 리스트의 집합\n",
    "- 숫자, 범주 및 텍스트 데이터를 포함하여 다양한 유형의 데이터를 처리할 수 있음"
   ]
  },
  {
   "cell_type": "code",
   "execution_count": 3,
   "id": "f62039b7-3cf6-44fa-96d7-cda48c2a003c",
   "metadata": {},
   "outputs": [],
   "source": [
    "import pandas as pd\n",
    "import numpy as np"
   ]
  },
  {
   "cell_type": "code",
   "execution_count": 7,
   "id": "0e411249-c63a-40dc-a236-3e646e549d2f",
   "metadata": {},
   "outputs": [
    {
     "name": "stdout",
     "output_type": "stream",
     "text": [
      "  ID     Name Age\n",
      "0  1    Alice  30\n",
      "1  2      Bob  25\n",
      "2  3  Charlie  35\n"
     ]
    }
   ],
   "source": [
    "data = np.array([\n",
    "    [1, 'Alice', 30],\n",
    "    [2, 'Bob', 25], # 길이가 같아야 생성 가능\n",
    "    [3, 'Charlie', 35]\n",
    "])\n",
    "\n",
    "df = pd.DataFrame(data)\n",
    "df = pd.DataFrame(data, columns=['ID','Name','Age'])\n",
    "\n",
    "print(df)"
   ]
  },
  {
   "cell_type": "code",
   "execution_count": 12,
   "id": "48c1574f-0806-4b95-b95e-9a4728d43cb0",
   "metadata": {},
   "outputs": [
    {
     "name": "stdout",
     "output_type": "stream",
     "text": [
      "      Name  Age      City\n",
      "0    Alice   25  New York\n",
      "1      Bob   30     Paris\n",
      "2  Charlie   35    London\n"
     ]
    }
   ],
   "source": [
    "data2 = {\n",
    "'Name': ['Alice', 'Bob', 'Charlie'],\n",
    "'Age': [25, 30, 35],\n",
    "'City': ['New York', 'Paris', 'London']\n",
    "}\n",
    "df2 = pd.DataFrame(data2)\n",
    "print(df2)"
   ]
  },
  {
   "cell_type": "markdown",
   "id": "0ccd9bd9-91d8-4ce7-9043-5722043b1bd9",
   "metadata": {},
   "source": [
    "### TEXT\n",
    "- 데이터를 저장하고 표현하기 위해 간단하고 널리 사용되는 형식\n",
    "- 데이터 포인트가 구분 기호로 구분된 일반 텍스트로 저장됨\n",
    "- 단순성과 다양한 프로그래밍 언어 및 소프트웨어 응용 프로그램과의 호환성이 좋음\n",
    "- 복잡한 데이터 구조에 대한 지원 부족\n",
    "- 데이터 조작 및 분석 기능 제한\n",
    "- 고급 데이터 작업을 위해 수동 처리 필요"
   ]
  },
  {
   "cell_type": "markdown",
   "id": "3c7c257e-d0f1-42eb-9f45-0f00f053fe10",
   "metadata": {},
   "source": [
    "#### CSV(Comma-Separated Values)\n",
    "- 테이블 형식 데이터 저장 및 교환에 일반적으로 사용되는 특정 유형의 텍스트 파일 형식\n",
    "- 행 내의 각 필드는 쉼표 또는 기타 지정된 구분 기호로 구분\n",
    "- CSV 파일은 스프레드시트 소프트웨어 및 데이터베이스 응용 프로그램에서 광범위하게 지원되므로 데이터 공유 및 상호 운용성을 위해 많이 사용 가능함\n",
    "- 수식이나 서식 옵션 지원 X\n",
    "- 고급 서식 옵션 부족"
   ]
  },
  {
   "cell_type": "code",
   "execution_count": 21,
   "id": "8a921e99-62b7-49bc-b400-1f4eab2deb8d",
   "metadata": {},
   "outputs": [
    {
     "name": "stdout",
     "output_type": "stream",
     "text": [
      "      Name  Age      City\n",
      "0    Alice   25  New York\n",
      "1      Bob   30     Paris\n",
      "2  Charlie   35    London\n"
     ]
    }
   ],
   "source": [
    "path = 'lib/DataFrame_ex.csv'\n",
    "df_h = pd.read_csv(path, header = 0)\n",
    "df_nh = pd.read_csv(path, header = None) # 헤더 제거\n",
    "df_utf8 = pd.read_csv(path, encoding = 'utf-8')\n",
    "df_cp949 = pd.read_csv(path, encoding = 'cp949')\n",
    "\n",
    "print(df_cp949)"
   ]
  },
  {
   "cell_type": "code",
   "execution_count": 31,
   "id": "36744bbe-c956-4d06-90f3-98a919090eda",
   "metadata": {},
   "outputs": [
    {
     "name": "stdout",
     "output_type": "stream",
     "text": [
      "df Info\n",
      "차원: (3, 3)\n",
      "변수: Index(['Name', 'Age', 'City'], dtype='object')\n",
      "변수 타입: Name    object\n",
      "Age      int64\n",
      "City    object\n",
      "dtype: object\n",
      "변수 요약:        Age\n",
      "count   3.0\n",
      "mean   30.0\n",
      "std     5.0\n",
      "min    25.0\n",
      "25%    27.5\n",
      "50%    30.0\n",
      "75%    32.5\n",
      "max    35.0\n",
      "위에서 5개의 값:       Name  Age      City\n",
      "0    Alice   25  New York\n",
      "1      Bob   30     Paris\n",
      "2  Charlie   35    London\n",
      "아래에서 5개의 값:       Name  Age      City\n",
      "0    Alice   25  New York\n",
      "1      Bob   30     Paris\n",
      "2  Charlie   35    London\n",
      "\n"
     ]
    }
   ],
   "source": [
    "print(f\"df Info\\n차원: {df.shape}\\n변수: {df.columns}\\n변수 타입: {df.dtypes}\\n변수 요약:{df.describe()}\\n위에서 5개의 값: {df.head()}\\n아래에서 5개의 값: {df.tail()}\\n\")"
   ]
  },
  {
   "cell_type": "code",
   "execution_count": null,
   "id": "693615e4-1286-41cc-808c-6d712796bf62",
   "metadata": {},
   "outputs": [],
   "source": []
  }
 ],
 "metadata": {
  "kernelspec": {
   "display_name": "data_preprocessing",
   "language": "python",
   "name": "preprocessing"
  },
  "language_info": {
   "codemirror_mode": {
    "name": "ipython",
    "version": 3
   },
   "file_extension": ".py",
   "mimetype": "text/x-python",
   "name": "python",
   "nbconvert_exporter": "python",
   "pygments_lexer": "ipython3",
   "version": "3.12.7"
  }
 },
 "nbformat": 4,
 "nbformat_minor": 5
}
