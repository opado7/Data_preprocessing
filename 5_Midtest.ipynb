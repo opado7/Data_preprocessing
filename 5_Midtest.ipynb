{
 "cells": [
  {
   "cell_type": "markdown",
   "id": "af22b20b-5ece-496e-ba54-f471356cfcae",
   "metadata": {},
   "source": [
    "## 파이썬 설치 및 환경설정\n",
    "파이썬 버전 확인\n",
    "```python\n",
    "conda search python\n",
    "```\n",
    "\n",
    "가상환경 생성\n",
    "```python\n",
    "conda create -n 생성하고 싶은 이름 python = 설치버전\n",
    "```\n",
    "\n",
    "가상환경 확인\n",
    "```python\n",
    "conda env list\n",
    "```\n",
    "\n",
    "가상환경 삭제\n",
    "```python\n",
    "conda env remove -n 삭제하고 싶은 이름\n",
    "```\n",
    "\n",
    "package 종류 확인\n",
    "```python\n",
    "pip freeze\n",
    "```\n",
    "\n",
    "가상환경 들어가기\n",
    "```python\n",
    "conda activate 가상환경이름\n",
    "```"
   ]
  },
  {
   "cell_type": "markdown",
   "id": "aa6e428e-f501-40d6-a245-9e50e580eecf",
   "metadata": {},
   "source": [
    "## 데이터의 구조\n",
    "### 인덱싱\n",
    "```python\n",
    "변수.replace(\"기존의 문자\", \"변환하고 싶은 문자\")\n",
    "\n",
    "a = \"독고영재, 50\"\n",
    "a[:a.index(\",\")] # -> 쉼표 이전의 값 까지 전부 추출\n",
    "\n",
    "a.append(\"값\") # -> 맨 뒤에 값 추가\n",
    "a.pop(\"위치\") # -> 위치에 있는 값 제거\n",
    "\n",
    "b = np.array([1,2,3,4])\n",
    "b = np.append(a, [4, 5])\n",
    "b = np.insert(a, 1, [7, 8]) # -> 위치 1에 7, 8 추가\n",
    "\n",
    "arr1 = np.array([[1, 2], [3, 4]])\n",
    "arr2 = np.array([[5, 6], [7, 8]])\n",
    "merged_arr = np.vstack((arr1, arr2))\n",
    "```\n"
   ]
  },
  {
   "cell_type": "markdown",
   "id": "a0026a5d-40a2-4d54-a3c4-2e904132bd68",
   "metadata": {},
   "source": [
    "## 데이터 프레임\n",
    "### DF 불러오기\n",
    "df.tail()까지 시험범위"
   ]
  }
 ],
 "metadata": {
  "kernelspec": {
   "display_name": "data_preprocessing",
   "language": "python",
   "name": "preprocessing"
  },
  "language_info": {
   "codemirror_mode": {
    "name": "ipython",
    "version": 3
   },
   "file_extension": ".py",
   "mimetype": "text/x-python",
   "name": "python",
   "nbconvert_exporter": "python",
   "pygments_lexer": "ipython3",
   "version": "3.12.7"
  }
 },
 "nbformat": 4,
 "nbformat_minor": 5
}
