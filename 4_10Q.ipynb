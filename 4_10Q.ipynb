{
 "cells": [
  {
   "cell_type": "code",
   "execution_count": 1,
   "id": "5c58223b-76fa-42be-957d-95f003430b75",
   "metadata": {},
   "outputs": [],
   "source": [
    "import numpy as np\n",
    "import pandas as pd"
   ]
  },
  {
   "cell_type": "code",
   "execution_count": 37,
   "id": "abf108f3-f84e-42c5-ac06-dd7006d03918",
   "metadata": {},
   "outputs": [
    {
     "name": "stdout",
     "output_type": "stream",
     "text": [
      "[1, 2, 5, 6, 7, 8, 9, 10]\n"
     ]
    }
   ],
   "source": [
    "# 1\n",
    "li1 = [1, 100, 2, 5, 6, 7, 8, 9]\n",
    "li1.pop(1)\n",
    "li1.append(10)\n",
    "print(li1)"
   ]
  },
  {
   "cell_type": "code",
   "execution_count": 48,
   "id": "20a9533c-220b-44a5-ac18-4a5603245837",
   "metadata": {},
   "outputs": [
    {
     "name": "stdout",
     "output_type": "stream",
     "text": [
      "[ 1  2  3  4  5  6  7  8  9 10 11]\n"
     ]
    }
   ],
   "source": [
    "# 2\n",
    "arr1 = np.array(li1)\n",
    "arr1 = np.insert(arr1, 2, 3)\n",
    "arr1 = np.insert(arr1, 3, 4)\n",
    "arr1 = np.insert(arr1, 10, 11)\n",
    "print(arr1)"
   ]
  },
  {
   "cell_type": "code",
   "execution_count": 15,
   "id": "025f5230-7558-4f29-a052-775625e4b246",
   "metadata": {},
   "outputs": [
    {
     "name": "stdout",
     "output_type": "stream",
     "text": [
      "[1 2 3 4 5] [1 2 3]\n"
     ]
    }
   ],
   "source": [
    "# 3\n",
    "A = arr1[arr1 <= 5] # <= 5\n",
    "B = arr1[arr1 < 4] # < 4\n",
    "print(A, B)"
   ]
  },
  {
   "cell_type": "code",
   "execution_count": 16,
   "id": "63806427-e045-4c06-8b2b-a46e4672763b",
   "metadata": {},
   "outputs": [
    {
     "name": "stdout",
     "output_type": "stream",
     "text": [
      "{'김창균': '033-570-6587', '이두호': '033-570-6583', '이태민': '033-570-6378', '조기필': '033-570-6375', '권세진': '033-570-6377'}\n"
     ]
    }
   ],
   "source": [
    "# 4\n",
    "professor = {'김창균':'033-570-6587', '이두호':'033-570-6583', '이태민':'033-570-6378', '조기필':'033-570-6375', '권세진':'033-570-6377'}\n",
    "print(professor)"
   ]
  },
  {
   "cell_type": "code",
   "execution_count": 23,
   "id": "0adca7d4-7da5-4420-8f96-754b1131cc30",
   "metadata": {},
   "outputs": [
    {
     "name": "stdout",
     "output_type": "stream",
     "text": [
      "  Name        Number\n",
      "0  김창균  033-570-6587\n",
      "1  이두호  033-570-6583\n",
      "2  이태민  033-570-6378\n",
      "3  조기필  033-570-6375\n",
      "4  권세진  033-570-6377\n"
     ]
    }
   ],
   "source": [
    "# 5\n",
    "data = {\n",
    "    'Name' : professor.keys(),\n",
    "    'Number' : professor.values(),\n",
    "}\n",
    "professor_df = pd.DataFrame(data)\n",
    "print(professor_df)"
   ]
  },
  {
   "cell_type": "code",
   "execution_count": 26,
   "id": "a1eb892f-52b6-43be-bf3e-329890342740",
   "metadata": {},
   "outputs": [
    {
     "name": "stdout",
     "output_type": "stream",
     "text": [
      "       연령     학력  성과능력  성과태도\n",
      "0  26~30세  대학원졸업     5     4\n",
      "1  31세 이상  대학교졸업     4     3\n",
      "2  31세 이상  전문대졸업     4     2\n",
      "3  26~30세  대학원졸업     4     4\n",
      "4  20~25세  대학교졸업     4     4\n"
     ]
    }
   ],
   "source": [
    "# 7\n",
    "test_df = pd.read_csv(\"lib/Data1.csv\")\n",
    "print(test_df)"
   ]
  },
  {
   "cell_type": "code",
   "execution_count": null,
   "id": "751975e2-7d9d-4ab3-abcc-d936d032d3e2",
   "metadata": {},
   "outputs": [],
   "source": []
  }
 ],
 "metadata": {
  "kernelspec": {
   "display_name": "data_preprocessing",
   "language": "python",
   "name": "preprocessing"
  },
  "language_info": {
   "codemirror_mode": {
    "name": "ipython",
    "version": 3
   },
   "file_extension": ".py",
   "mimetype": "text/x-python",
   "name": "python",
   "nbconvert_exporter": "python",
   "pygments_lexer": "ipython3",
   "version": "3.12.7"
  }
 },
 "nbformat": 4,
 "nbformat_minor": 5
}
