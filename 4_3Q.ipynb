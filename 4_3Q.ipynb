{
 "cells": [
  {
   "cell_type": "code",
   "execution_count": 9,
   "id": "c669bb50-6bb1-4bfc-a7c2-b1e9feedec48",
   "metadata": {},
   "outputs": [],
   "source": [
    "import numpy as np"
   ]
  },
  {
   "cell_type": "code",
   "execution_count": 10,
   "id": "652ff1c3-a05e-4afd-8002-551692d9a8a8",
   "metadata": {},
   "outputs": [
    {
     "name": "stdout",
     "output_type": "stream",
     "text": [
      "50\n"
     ]
    }
   ],
   "source": [
    "# 1\n",
    "a = 20\n",
    "b = 30\n",
    "print(f'{a+b}')"
   ]
  },
  {
   "cell_type": "code",
   "execution_count": 11,
   "id": "a8d5c73a-9f47-4029-8291-8d2568dd5f6d",
   "metadata": {},
   "outputs": [
    {
     "name": "stdout",
     "output_type": "stream",
     "text": [
      "안녕하세요 이봉규님 데이터전처리 수업에 오신것을 환영합니다.\n"
     ]
    }
   ],
   "source": [
    "# 2\n",
    "name = '이봉규'\n",
    "print(f'안녕하세요 {name}님 데이터전처리 수업에 오신것을 환영합니다.')"
   ]
  },
  {
   "cell_type": "code",
   "execution_count": 15,
   "id": "d2d9861b-3efc-4df9-98e4-b8a8c89f0ec5",
   "metadata": {},
   "outputs": [],
   "source": [
    "# 3\n",
    "li = np.array([1, 5, 5, 7, 3, 6, 88, 12, 5, 74, 4, 8, 64, 2, 7, 89, 33, 1, 6, 8, 1, 5, 6, 7])\n",
    "arr = [1, 5, 5, 7, 3, 6, 88, 12, 5, 74, 4, 8, 64, 2, 7, 89, 33, 1, 6, 8, 1, 5, 6, 7]"
   ]
  },
  {
   "cell_type": "code",
   "execution_count": 32,
   "id": "328a40e9-45bb-4762-bb66-ecc1bc369a57",
   "metadata": {},
   "outputs": [
    {
     "name": "stdout",
     "output_type": "stream",
     "text": [
      "21, 185\n"
     ]
    }
   ],
   "source": [
    "# 4\n",
    "sum1 = li[0] + li[1] + li[2] + li[3] + li[4]\n",
    "sum2 = li[5] + li[6] + li[7] + li[8] + li[9]\n",
    "print(f'{sum1}, {sum2}')"
   ]
  },
  {
   "cell_type": "code",
   "execution_count": 34,
   "id": "9600a9c5-c5cf-4e14-9ed5-0277ad744490",
   "metadata": {},
   "outputs": [
    {
     "name": "stdout",
     "output_type": "stream",
     "text": [
      "6\n"
     ]
    }
   ],
   "source": [
    "# 5\n",
    "print(arr.index(88))"
   ]
  },
  {
   "cell_type": "code",
   "execution_count": 59,
   "id": "5b2e227e-292c-473d-9448-7e52a10b97ba",
   "metadata": {},
   "outputs": [
    {
     "name": "stdout",
     "output_type": "stream",
     "text": [
      "결과 1 : Lee\n"
     ]
    }
   ],
   "source": [
    "# 6\n",
    "li = ['Jone-30', 'Park-30', 'Kim-20', 'Lee-10', 'Oh-32', 'Kang-25']\n",
    "print(f'결과 1 : {li[3][:li[3].index('-')]}')"
   ]
  },
  {
   "cell_type": "code",
   "execution_count": 84,
   "id": "9d41eb73-30c0-4a02-8adb-5947eadc3626",
   "metadata": {},
   "outputs": [
    {
     "name": "stdout",
     "output_type": "stream",
     "text": [
      "결과 1 : 데이터 전처리 수업 입니다.\n",
      "결과 2 : Data Processing\n"
     ]
    }
   ],
   "source": [
    "li2 = [\"데이터 전처리 수업, 입니다.\", \"Data Procesing\"]\n",
    "print(f'결과 1 : {li2[0].replace(\",\",\"\")}')\n",
    "print(f'결과 2 : {li2[1].replace(\"Procesing\",\"Processing\")}')"
   ]
  }
 ],
 "metadata": {
  "kernelspec": {
   "display_name": "data_preprocessing",
   "language": "python",
   "name": "preprocessing"
  },
  "language_info": {
   "codemirror_mode": {
    "name": "ipython",
    "version": 3
   },
   "file_extension": ".py",
   "mimetype": "text/x-python",
   "name": "python",
   "nbconvert_exporter": "python",
   "pygments_lexer": "ipython3",
   "version": "3.12.7"
  }
 },
 "nbformat": 4,
 "nbformat_minor": 5
}
