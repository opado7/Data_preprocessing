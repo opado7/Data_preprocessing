{
 "cells": [
  {
   "cell_type": "code",
   "execution_count": 9,
   "id": "c3b155fc-7177-4a05-9e53-9f8847938bd4",
   "metadata": {},
   "outputs": [
    {
     "data": {
      "text/plain": [
       "(3, -1, 3)"
      ]
     },
     "execution_count": 9,
     "metadata": {},
     "output_type": "execute_result"
    }
   ],
   "source": [
    "a = 1\n",
    "b = 2\n",
    "c = 3\n",
    "d = 4\n",
    "a + b, a - b, a * c"
   ]
  },
  {
   "cell_type": "code",
   "execution_count": 10,
   "id": "984a12d2-48c3-4d43-9fec-bea60d0696be",
   "metadata": {},
   "outputs": [
    {
     "name": "stdout",
     "output_type": "stream",
     "text": [
      "3\n",
      "3 -1 3\n",
      "2\n",
      "2.0\n",
      "1\n"
     ]
    }
   ],
   "source": [
    "print(a + b)\n",
    "print(a + b, a - b, a * c)\n",
    "print(a * b)\n",
    "print(d / b)\n",
    "print(d % c)"
   ]
  },
  {
   "cell_type": "code",
   "execution_count": 12,
   "id": "84c763ff-ef42-4d61-af05-65b9a0712668",
   "metadata": {},
   "outputs": [
    {
     "name": "stdin",
     "output_type": "stream",
     "text": [
      " 10\n"
     ]
    },
    {
     "data": {
      "text/plain": [
       "str"
      ]
     },
     "execution_count": 12,
     "metadata": {},
     "output_type": "execute_result"
    }
   ],
   "source": [
    "a = input()\n",
    "type(a)"
   ]
  },
  {
   "cell_type": "code",
   "execution_count": 16,
   "id": "a8459548-ec74-49bf-916d-0390df937d2b",
   "metadata": {},
   "outputs": [
    {
     "name": "stdin",
     "output_type": "stream",
     "text": [
      " 10\n"
     ]
    },
    {
     "data": {
      "text/plain": [
       "10.0"
      ]
     },
     "execution_count": 16,
     "metadata": {},
     "output_type": "execute_result"
    }
   ],
   "source": [
    "a = float(input())\n",
    "type(a)\n",
    "a"
   ]
  },
  {
   "cell_type": "code",
   "execution_count": 1,
   "id": "ce3ed75d-4142-4011-bf12-ee2e146434f0",
   "metadata": {},
   "outputs": [
    {
     "data": {
      "text/plain": [
       "False"
      ]
     },
     "execution_count": 1,
     "metadata": {},
     "output_type": "execute_result"
    }
   ],
   "source": [
    "1 == 1 and 1 == 2"
   ]
  },
  {
   "cell_type": "code",
   "execution_count": 8,
   "id": "aa91017d-6169-4a33-95a2-1163bc1b2dce",
   "metadata": {},
   "outputs": [
    {
     "name": "stdout",
     "output_type": "stream",
     "text": [
      "<class 'str'>\n",
      "Life is short, You need Python.\n",
      "Life is short, You need Python.\n",
      "Life is short, You need Python.\n",
      "Life is short, You need Python.\n",
      "Life is short, You need Python.\n",
      "\n"
     ]
    }
   ],
   "source": [
    "life = \"Life is short, You need Python.\"\n",
    "print(type(life))\n",
    "print((f\"{life}\\n\") * 5)"
   ]
  },
  {
   "cell_type": "markdown",
   "id": "e1d5565a-c46e-4093-964d-9fa8b0a4225b",
   "metadata": {},
   "source": [
    "### 스칼라\n",
    "- 일반적으로 숫자(예: 정수 또는 부동 소수점), 문자, Bool 또는 컬렉션이 아닌 기타 값이 될 수 있는 단일값\n",
    "- 스칼라는 가장 간단한 형태의 데이터로, 하위 구조가 없는 단일 데이터 단위\n",
    "\n",
    "### 리스트\n",
    "- 데이터의 유형상관 없이 저장하고, 저장된 데이터들을 그룹화할 수 있는 데이터 구조\n",
    "- 숫자, 문자, 논리값 등등 다양한 데이터 유형의 요소가 포함될 수 있음"
   ]
  },
  {
   "cell_type": "code",
   "execution_count": 16,
   "id": "d1d6c526-0cef-4469-95b4-718acf00132d",
   "metadata": {},
   "outputs": [
    {
     "name": "stdout",
     "output_type": "stream",
     "text": [
      "[10, 20, 30, 20, 40, 60]\n"
     ]
    }
   ],
   "source": [
    "A = [10, 20, 30]\n",
    "B = [20, 40, 60]\n",
    "print(A + B)"
   ]
  },
  {
   "cell_type": "code",
   "execution_count": 2,
   "id": "44f37ccf-76d7-420d-bb69-16907b05ace6",
   "metadata": {},
   "outputs": [],
   "source": [
    "import numpy as np"
   ]
  },
  {
   "cell_type": "code",
   "execution_count": 5,
   "id": "ad5e0e54-43a6-403a-953d-37f01396572f",
   "metadata": {},
   "outputs": [
    {
     "data": {
      "text/plain": [
       "array([ 6,  8, 10])"
      ]
     },
     "execution_count": 5,
     "metadata": {},
     "output_type": "execute_result"
    }
   ],
   "source": [
    "a = np.array([1, 2, 3])\n",
    "b = np.array([5, 6, 7])\n",
    "c = a + b\n",
    "c"
   ]
  },
  {
   "cell_type": "code",
   "execution_count": 7,
   "id": "eeeae066-6292-4d2f-9588-c3f2ab36b7d5",
   "metadata": {},
   "outputs": [
    {
     "name": "stdout",
     "output_type": "stream",
     "text": [
      "<class 'numpy.ndarray'> (2, 3)\n"
     ]
    }
   ],
   "source": [
    "# n차원 배열\n",
    "a = np.array([[1,2,3], [4,5,6]])\n",
    "b = np.array([[5,6,7], [8,9,10]])\n",
    "c = a + b\n",
    "print(type(c), c.shape)\n"
   ]
  },
  {
   "cell_type": "code",
   "execution_count": null,
   "id": "d8a87acb-2f1b-4c4c-9a63-289b17b9f04e",
   "metadata": {},
   "outputs": [],
   "source": []
  }
 ],
 "metadata": {
  "kernelspec": {
   "display_name": "data_preprocessing",
   "language": "python",
   "name": "preprocessing"
  },
  "language_info": {
   "codemirror_mode": {
    "name": "ipython",
    "version": 3
   },
   "file_extension": ".py",
   "mimetype": "text/x-python",
   "name": "python",
   "nbconvert_exporter": "python",
   "pygments_lexer": "ipython3",
   "version": "3.12.7"
  }
 },
 "nbformat": 4,
 "nbformat_minor": 5
}
