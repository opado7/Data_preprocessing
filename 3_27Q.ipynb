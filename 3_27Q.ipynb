{
 "cells": [
  {
   "cell_type": "code",
   "execution_count": 13,
   "id": "3aad4505-0a42-4ebd-ba44-875aac90e0a2",
   "metadata": {},
   "outputs": [
    {
     "data": {
      "text/plain": [
       "[1, 5, 7, 8, 10, '안녕', 'a']"
      ]
     },
     "execution_count": 13,
     "metadata": {},
     "output_type": "execute_result"
    }
   ],
   "source": [
    "alist = [1, 5, 7, 8, 10, \"안녕\", \"a\"]\n",
    "alist"
   ]
  },
  {
   "cell_type": "code",
   "execution_count": 8,
   "id": "424f88ab-d784-4e35-996d-ef51f9d31c0b",
   "metadata": {},
   "outputs": [
    {
     "name": "stdout",
     "output_type": "stream",
     "text": [
      "[ 3  5  8 10]\n"
     ]
    }
   ],
   "source": [
    "import numpy as np\n",
    "arr1 = np.array([1, 2, 3, 4])\n",
    "arr2 = np.array([2, 3, 5, 6])\n",
    "print(arr1+arr2)"
   ]
  },
  {
   "cell_type": "code",
   "execution_count": 9,
   "id": "d647b4fa-95fc-4924-b3bd-f1b5fb9d8e79",
   "metadata": {},
   "outputs": [
    {
     "name": "stdout",
     "output_type": "stream",
     "text": [
      "[[ 1  2  3  4  5  6]\n",
      " [20 19 18 17 16 15]]\n"
     ]
    }
   ],
   "source": [
    "arr3 = np.array([[1,2,3,4,5,6],[20,19,18,17,16,15]])\n",
    "print(arr3)"
   ]
  },
  {
   "cell_type": "code",
   "execution_count": 12,
   "id": "cfedf13c-f2d2-4df5-b645-85765386e10d",
   "metadata": {},
   "outputs": [
    {
     "name": "stdout",
     "output_type": "stream",
     "text": [
      "---------------\n",
      "데이터전처리 수업\n",
      "끝\n",
      "===============\n"
     ]
    }
   ],
   "source": [
    "print(\"-\"*15)\n",
    "print(\"데이터전처리 수업\\n끝\")\n",
    "print(\"=\"*15)"
   ]
  },
  {
   "cell_type": "code",
   "execution_count": null,
   "id": "f74de0e4-5e6a-4010-a8bd-b150ef9ed5ac",
   "metadata": {},
   "outputs": [],
   "source": []
  }
 ],
 "metadata": {
  "kernelspec": {
   "display_name": "CGData",
   "language": "python",
   "name": "cgdata"
  },
  "language_info": {
   "codemirror_mode": {
    "name": "ipython",
    "version": 3
   },
   "file_extension": ".py",
   "mimetype": "text/x-python",
   "name": "python",
   "nbconvert_exporter": "python",
   "pygments_lexer": "ipython3",
   "version": "3.12.7"
  }
 },
 "nbformat": 4,
 "nbformat_minor": 5
}
