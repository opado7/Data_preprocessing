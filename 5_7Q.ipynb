{
 "cells": [
  {
   "cell_type": "code",
   "execution_count": 43,
   "id": "d6735903-57d4-4bad-a7c9-f468b08e52b1",
   "metadata": {},
   "outputs": [],
   "source": [
    "import numpy as np\n",
    "import pandas"
   ]
  },
  {
   "cell_type": "code",
   "execution_count": 44,
   "id": "39ac578c-76a0-4d63-95cf-6451293b78df",
   "metadata": {},
   "outputs": [
    {
     "name": "stdout",
     "output_type": "stream",
     "text": [
      "[10, 20, 30, [1, 2, 3]]\n"
     ]
    }
   ],
   "source": [
    "# 1\n",
    "li1 = [10, 20, 30, [1,2,3]]\n",
    "print(li1)"
   ]
  },
  {
   "cell_type": "code",
   "execution_count": 45,
   "id": "330e31a6-d13a-4b51-9264-ce04c7d41814",
   "metadata": {},
   "outputs": [
    {
     "name": "stdout",
     "output_type": "stream",
     "text": [
      "[1, 2, 3]\n"
     ]
    }
   ],
   "source": [
    "# 2\n",
    "print(li1[3])"
   ]
  },
  {
   "cell_type": "code",
   "execution_count": 46,
   "id": "4b850427-367a-4ae2-932e-154e2c0cb2c5",
   "metadata": {},
   "outputs": [],
   "source": [
    "# 3\n",
    "math = [20, 30, 40, 50, 60]\n",
    "eng = [50, 70, 50, 60, 90]"
   ]
  },
  {
   "cell_type": "code",
   "execution_count": 47,
   "id": "26b7eb10-5d3d-4c9e-baf3-c5a80ae3948f",
   "metadata": {},
   "outputs": [
    {
     "data": {
      "text/plain": [
       "'https://www.naver.com/'"
      ]
     },
     "execution_count": 47,
     "metadata": {},
     "output_type": "execute_result"
    }
   ],
   "source": [
    "# 4\n",
    "url = [\"https://www.youtube.com/\"]\n",
    "url[0].replace(\"youtube\",\"naver\")"
   ]
  },
  {
   "cell_type": "code",
   "execution_count": 56,
   "id": "37c23dd3-fabe-4d73-905a-d50f3bec79d3",
   "metadata": {},
   "outputs": [
    {
     "name": "stdout",
     "output_type": "stream",
     "text": [
      "수학평균: 40.0 영어평균: 64.0\n"
     ]
    }
   ],
   "source": [
    "# 5\n",
    "print(f\"수학평균: {avg(math)} 영어평균: {avg(eng)}\") # !!"
   ]
  },
  {
   "cell_type": "code",
   "execution_count": 49,
   "id": "364369bb-86d1-4dab-b1be-3b2a0cc05c29",
   "metadata": {},
   "outputs": [
    {
     "name": "stdout",
     "output_type": "stream",
     "text": [
      "[1 2 4 5]\n"
     ]
    }
   ],
   "source": [
    "# 6\n",
    "arr = np.array([1, 2, 100, 4, 5, 900])\n",
    "arr = np.delete(arr, -1)\n",
    "arr = np.delete(arr, 2)\n",
    "print(arr)"
   ]
  },
  {
   "cell_type": "code",
   "execution_count": 50,
   "id": "7c313d76-2825-4b60-b7a9-8d542161853e",
   "metadata": {},
   "outputs": [],
   "source": [
    "# 7\n",
    "dic_math = {\"수학\":[20, 30, 40, 50, 60]}\n",
    "dic_eng = {\"영어\":[50, 70, 50, 60, 90]}"
   ]
  },
  {
   "cell_type": "code",
   "execution_count": 51,
   "id": "1ba1f616-31f1-45bd-94b4-a459cb4e39c6",
   "metadata": {},
   "outputs": [
    {
     "name": "stdout",
     "output_type": "stream",
     "text": [
      "70\n"
     ]
    }
   ],
   "source": [
    "# 8\n",
    "print(int(dic_math.get(\"수학\")[0]) + int(dic_eng.get(\"영어\")[2]))"
   ]
  },
  {
   "cell_type": "code",
   "execution_count": null,
   "id": "08238826-d4be-4a0e-84f1-b3766c342547",
   "metadata": {},
   "outputs": [],
   "source": []
  }
 ],
 "metadata": {
  "kernelspec": {
   "display_name": "data_preprocessing",
   "language": "python",
   "name": "preprocessing"
  },
  "language_info": {
   "codemirror_mode": {
    "name": "ipython",
    "version": 3
   },
   "file_extension": ".py",
   "mimetype": "text/x-python",
   "name": "python",
   "nbconvert_exporter": "python",
   "pygments_lexer": "ipython3",
   "version": "3.12.7"
  }
 },
 "nbformat": 4,
 "nbformat_minor": 5
}
