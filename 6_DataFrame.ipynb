{
 "cells": [
  {
   "cell_type": "code",
   "execution_count": 1,
   "id": "ab39f957-5bb9-4f7f-9397-7768708d4c83",
   "metadata": {},
   "outputs": [],
   "source": [
    "import pandas as pd"
   ]
  },
  {
   "cell_type": "code",
   "execution_count": 12,
   "id": "e3bb60f7-a76c-4e4a-a32e-89e4b76e35e7",
   "metadata": {},
   "outputs": [
    {
     "data": {
      "text/html": [
       "<div>\n",
       "<style scoped>\n",
       "    .dataframe tbody tr th:only-of-type {\n",
       "        vertical-align: middle;\n",
       "    }\n",
       "\n",
       "    .dataframe tbody tr th {\n",
       "        vertical-align: top;\n",
       "    }\n",
       "\n",
       "    .dataframe thead th {\n",
       "        text-align: right;\n",
       "    }\n",
       "</style>\n",
       "<table border=\"1\" class=\"dataframe\">\n",
       "  <thead>\n",
       "    <tr style=\"text-align: right;\">\n",
       "      <th></th>\n",
       "      <th>국어</th>\n",
       "      <th>영어</th>\n",
       "      <th>수학</th>\n",
       "      <th>체육</th>\n",
       "    </tr>\n",
       "  </thead>\n",
       "  <tbody>\n",
       "    <tr>\n",
       "      <th>0</th>\n",
       "      <td>50.0</td>\n",
       "      <td>88</td>\n",
       "      <td>21.0</td>\n",
       "      <td>상</td>\n",
       "    </tr>\n",
       "    <tr>\n",
       "      <th>1</th>\n",
       "      <td>41.0</td>\n",
       "      <td>87</td>\n",
       "      <td>54.0</td>\n",
       "      <td>중</td>\n",
       "    </tr>\n",
       "    <tr>\n",
       "      <th>2</th>\n",
       "      <td>85.0</td>\n",
       "      <td>65</td>\n",
       "      <td>84.0</td>\n",
       "      <td>상</td>\n",
       "    </tr>\n",
       "    <tr>\n",
       "      <th>3</th>\n",
       "      <td>61.0</td>\n",
       "      <td>85</td>\n",
       "      <td>13.0</td>\n",
       "      <td>중</td>\n",
       "    </tr>\n",
       "    <tr>\n",
       "      <th>4</th>\n",
       "      <td>54.0</td>\n",
       "      <td>41</td>\n",
       "      <td>21.0</td>\n",
       "      <td>하</td>\n",
       "    </tr>\n",
       "    <tr>\n",
       "      <th>5</th>\n",
       "      <td>84.0</td>\n",
       "      <td>47</td>\n",
       "      <td>87.0</td>\n",
       "      <td>하</td>\n",
       "    </tr>\n",
       "    <tr>\n",
       "      <th>6</th>\n",
       "      <td>77.0</td>\n",
       "      <td>98</td>\n",
       "      <td>65.0</td>\n",
       "      <td>상</td>\n",
       "    </tr>\n",
       "    <tr>\n",
       "      <th>7</th>\n",
       "      <td>87.0</td>\n",
       "      <td>58</td>\n",
       "      <td>NaN</td>\n",
       "      <td>중</td>\n",
       "    </tr>\n",
       "    <tr>\n",
       "      <th>8</th>\n",
       "      <td>NaN</td>\n",
       "      <td>22</td>\n",
       "      <td>78.0</td>\n",
       "      <td>하</td>\n",
       "    </tr>\n",
       "  </tbody>\n",
       "</table>\n",
       "</div>"
      ],
      "text/plain": [
       "     국어  영어    수학 체육\n",
       "0  50.0  88  21.0  상\n",
       "1  41.0  87  54.0  중\n",
       "2  85.0  65  84.0  상\n",
       "3  61.0  85  13.0  중\n",
       "4  54.0  41  21.0  하\n",
       "5  84.0  47  87.0  하\n",
       "6  77.0  98  65.0  상\n",
       "7  87.0  58   NaN  중\n",
       "8   NaN  22  78.0  하"
      ]
     },
     "execution_count": 12,
     "metadata": {},
     "output_type": "execute_result"
    }
   ],
   "source": [
    "df = pd.read_csv(\"lib/국영수2.csv\", encoding = 'cp949')\n",
    "df"
   ]
  },
  {
   "cell_type": "markdown",
   "id": "6de12e76-ea34-4531-940c-ca8ad306a7b5",
   "metadata": {},
   "source": [
    "# df 정보확인\n",
    "print(f'차원: {df.shape},\\n변수: {df.columns},\\n타입: {df.dtypes}\\n요약:{df.describe()},\\nhead:{df.head()},\\ntail:{df.tail()}')"
   ]
  },
  {
   "cell_type": "code",
   "execution_count": 4,
   "id": "2a78156e-379a-4713-a9f5-dcc386c61cc7",
   "metadata": {},
   "outputs": [
    {
     "data": {
      "text/plain": [
       "국어    1\n",
       "영어    0\n",
       "수학    1\n",
       "체육    0\n",
       "dtype: int64"
      ]
     },
     "execution_count": 4,
     "metadata": {},
     "output_type": "execute_result"
    }
   ],
   "source": [
    "# 결측값 확인\n",
    "df.isnull().sum()"
   ]
  },
  {
   "cell_type": "code",
   "execution_count": 5,
   "id": "d004d052-177e-4d19-9d00-758d7312d325",
   "metadata": {},
   "outputs": [
    {
     "data": {
      "text/plain": [
       "array([50., 41., 85., 61., 54., 84., 77., 87., nan])"
      ]
     },
     "execution_count": 5,
     "metadata": {},
     "output_type": "execute_result"
    }
   ],
   "source": [
    "# 독립적인 값 확인\n",
    "df['국어'].unique()"
   ]
  },
  {
   "cell_type": "code",
   "execution_count": 6,
   "id": "46063c53-406e-4d58-a3ce-d58d1bb4794f",
   "metadata": {},
   "outputs": [
    {
     "data": {
      "text/html": [
       "<div>\n",
       "<style scoped>\n",
       "    .dataframe tbody tr th:only-of-type {\n",
       "        vertical-align: middle;\n",
       "    }\n",
       "\n",
       "    .dataframe tbody tr th {\n",
       "        vertical-align: top;\n",
       "    }\n",
       "\n",
       "    .dataframe thead th {\n",
       "        text-align: right;\n",
       "    }\n",
       "</style>\n",
       "<table border=\"1\" class=\"dataframe\">\n",
       "  <thead>\n",
       "    <tr style=\"text-align: right;\">\n",
       "      <th></th>\n",
       "      <th>국어</th>\n",
       "      <th>영어</th>\n",
       "      <th>수학</th>\n",
       "      <th>체육</th>\n",
       "    </tr>\n",
       "  </thead>\n",
       "  <tbody>\n",
       "    <tr>\n",
       "      <th>0</th>\n",
       "      <td>50</td>\n",
       "      <td>88</td>\n",
       "      <td>21</td>\n",
       "      <td>상</td>\n",
       "    </tr>\n",
       "    <tr>\n",
       "      <th>1</th>\n",
       "      <td>41</td>\n",
       "      <td>87</td>\n",
       "      <td>54</td>\n",
       "      <td>중</td>\n",
       "    </tr>\n",
       "    <tr>\n",
       "      <th>2</th>\n",
       "      <td>85</td>\n",
       "      <td>65</td>\n",
       "      <td>84</td>\n",
       "      <td>상</td>\n",
       "    </tr>\n",
       "    <tr>\n",
       "      <th>3</th>\n",
       "      <td>61</td>\n",
       "      <td>85</td>\n",
       "      <td>13</td>\n",
       "      <td>중</td>\n",
       "    </tr>\n",
       "    <tr>\n",
       "      <th>4</th>\n",
       "      <td>54</td>\n",
       "      <td>41</td>\n",
       "      <td>21</td>\n",
       "      <td>하</td>\n",
       "    </tr>\n",
       "    <tr>\n",
       "      <th>5</th>\n",
       "      <td>84</td>\n",
       "      <td>47</td>\n",
       "      <td>87</td>\n",
       "      <td>하</td>\n",
       "    </tr>\n",
       "    <tr>\n",
       "      <th>6</th>\n",
       "      <td>77</td>\n",
       "      <td>98</td>\n",
       "      <td>65</td>\n",
       "      <td>상</td>\n",
       "    </tr>\n",
       "    <tr>\n",
       "      <th>7</th>\n",
       "      <td>87</td>\n",
       "      <td>58</td>\n",
       "      <td>54</td>\n",
       "      <td>중</td>\n",
       "    </tr>\n",
       "    <tr>\n",
       "      <th>8</th>\n",
       "      <td>54</td>\n",
       "      <td>22</td>\n",
       "      <td>78</td>\n",
       "      <td>하</td>\n",
       "    </tr>\n",
       "  </tbody>\n",
       "</table>\n",
       "</div>"
      ],
      "text/plain": [
       "   국어  영어  수학 체육\n",
       "0  50  88  21  상\n",
       "1  41  87  54  중\n",
       "2  85  65  84  상\n",
       "3  61  85  13  중\n",
       "4  54  41  21  하\n",
       "5  84  47  87  하\n",
       "6  77  98  65  상\n",
       "7  87  58  54  중\n",
       "8  54  22  78  하"
      ]
     },
     "execution_count": 6,
     "metadata": {},
     "output_type": "execute_result"
    }
   ],
   "source": [
    "df2 = pd.read_csv(\"lib/국영수.csv\", encoding = 'cp949')\n",
    "df2"
   ]
  },
  {
   "cell_type": "code",
   "execution_count": 7,
   "id": "9a3d6f5f-da15-467d-a930-19f547938552",
   "metadata": {},
   "outputs": [
    {
     "name": "stdout",
     "output_type": "stream",
     "text": [
      "0    109.0\n",
      "1    141.0\n",
      "2    149.0\n",
      "3     98.0\n",
      "4     62.0\n",
      "5    134.0\n",
      "6    163.0\n",
      "7      NaN\n",
      "8    100.0\n",
      "Name: total, dtype: float64\n"
     ]
    }
   ],
   "source": [
    "# column 합\n",
    "df[\"total\"] = df[\"영어\"] + df[\"수학\"]\n",
    "print(df[\"total\"])"
   ]
  },
  {
   "cell_type": "code",
   "execution_count": 8,
   "id": "42cba1b6-8f88-4f28-8be3-f6869f56b70c",
   "metadata": {},
   "outputs": [
    {
     "name": "stdout",
     "output_type": "stream",
     "text": [
      "     국어  영어    수학\n",
      "0  50.0  88  21.0\n",
      "1  41.0  87  54.0\n",
      "2  85.0  65  84.0\n",
      "3  61.0  85  13.0\n",
      "4  54.0  41  21.0\n",
      "5  84.0  47  87.0\n",
      "6  77.0  98  65.0\n",
      "7  87.0  58   NaN\n",
      "8   NaN  22  78.0\n"
     ]
    }
   ],
   "source": [
    "# columns 추출\n",
    "columns = ['국어', '영어', '수학']\n",
    "selected_columns = df[columns]\n",
    "print(selected_columns)"
   ]
  },
  {
   "cell_type": "code",
   "execution_count": 9,
   "id": "0b37ac7d-561a-4521-876d-2b3535817bc9",
   "metadata": {},
   "outputs": [
    {
     "data": {
      "text/plain": [
       "0    상\n",
       "1    중\n",
       "2    상\n",
       "3    중\n",
       "Name: 체육, dtype: object"
      ]
     },
     "execution_count": 9,
     "metadata": {},
     "output_type": "execute_result"
    }
   ],
   "source": [
    "df[\"체육\"][:4]"
   ]
  },
  {
   "cell_type": "markdown",
   "id": "d591d860-4a63-47ef-ad32-a9cd78135bc2",
   "metadata": {},
   "source": [
    "<hr>\n",
    "5/12"
   ]
  },
  {
   "cell_type": "code",
   "execution_count": 13,
   "id": "6b9efcc3-9149-446f-a374-da40ce2d1154",
   "metadata": {},
   "outputs": [
    {
     "data": {
      "text/html": [
       "<div>\n",
       "<style scoped>\n",
       "    .dataframe tbody tr th:only-of-type {\n",
       "        vertical-align: middle;\n",
       "    }\n",
       "\n",
       "    .dataframe tbody tr th {\n",
       "        vertical-align: top;\n",
       "    }\n",
       "\n",
       "    .dataframe thead th {\n",
       "        text-align: right;\n",
       "    }\n",
       "</style>\n",
       "<table border=\"1\" class=\"dataframe\">\n",
       "  <thead>\n",
       "    <tr style=\"text-align: right;\">\n",
       "      <th></th>\n",
       "      <th>국어</th>\n",
       "    </tr>\n",
       "  </thead>\n",
       "  <tbody>\n",
       "    <tr>\n",
       "      <th>0</th>\n",
       "      <td>50.0</td>\n",
       "    </tr>\n",
       "    <tr>\n",
       "      <th>1</th>\n",
       "      <td>41.0</td>\n",
       "    </tr>\n",
       "    <tr>\n",
       "      <th>2</th>\n",
       "      <td>85.0</td>\n",
       "    </tr>\n",
       "    <tr>\n",
       "      <th>3</th>\n",
       "      <td>61.0</td>\n",
       "    </tr>\n",
       "    <tr>\n",
       "      <th>4</th>\n",
       "      <td>54.0</td>\n",
       "    </tr>\n",
       "    <tr>\n",
       "      <th>5</th>\n",
       "      <td>84.0</td>\n",
       "    </tr>\n",
       "    <tr>\n",
       "      <th>6</th>\n",
       "      <td>77.0</td>\n",
       "    </tr>\n",
       "    <tr>\n",
       "      <th>7</th>\n",
       "      <td>87.0</td>\n",
       "    </tr>\n",
       "    <tr>\n",
       "      <th>8</th>\n",
       "      <td>NaN</td>\n",
       "    </tr>\n",
       "  </tbody>\n",
       "</table>\n",
       "</div>"
      ],
      "text/plain": [
       "     국어\n",
       "0  50.0\n",
       "1  41.0\n",
       "2  85.0\n",
       "3  61.0\n",
       "4  54.0\n",
       "5  84.0\n",
       "6  77.0\n",
       "7  87.0\n",
       "8   NaN"
      ]
     },
     "execution_count": 13,
     "metadata": {},
     "output_type": "execute_result"
    }
   ],
   "source": [
    "df1 = df.drop(['체육'], axis = 1) # axis = 0 -> 행을 삭제, 1 -> 열을 삭제\n",
    "df2 = df1.drop(['영어', '수학'], axis = 1)\n",
    "df2"
   ]
  },
  {
   "cell_type": "code",
   "execution_count": 20,
   "id": "996a95d9-22cd-4fa4-bc04-291822111a89",
   "metadata": {},
   "outputs": [],
   "source": [
    "data = {\n",
    "    'A': [1, 2, 3, 4],\n",
    "    'B': [4.1, 3.5, 2.1, 5.7],\n",
    "    'C': ['one', 'two', 'three', 'four']\n",
    "}\n",
    "\n",
    "df = pd.DataFrame(data)\n",
    "\n",
    "df['A'] = df['A'].astype(float)\n",
    "df['B'] = df['B'].astype(int)\n",
    "df['A'] = df['A'].astype('str')\n",
    "df['C'] = df['C'].astype('category')"
   ]
  },
  {
   "cell_type": "markdown",
   "id": "20b7bc2e-d675-4982-8f46-a2fe68088f4a",
   "metadata": {},
   "source": [
    "df.dropna()는 데이터프레임의 불완전한 데이터가 있는 행을 삭제함\n",
    "df.fillna(채워넣을 값) 기본값을 제공하여 데이터 누락으로 인해 데이터에 대한 작업이 실패하지 않도록 하기 위해 자주 사용됨\n",
    "```python\n",
    "df.fillna(df.median()) # 중앙값으로 대체\n",
    "df.fillna(df.mean()) # 평균값으로 대체\n",
    "```"
   ]
  },
  {
   "cell_type": "code",
   "execution_count": 28,
   "id": "ffc35c04-6e63-4a8f-827a-4b87809ff8ec",
   "metadata": {},
   "outputs": [
    {
     "data": {
      "text/html": [
       "<div>\n",
       "<style scoped>\n",
       "    .dataframe tbody tr th:only-of-type {\n",
       "        vertical-align: middle;\n",
       "    }\n",
       "\n",
       "    .dataframe tbody tr th {\n",
       "        vertical-align: top;\n",
       "    }\n",
       "\n",
       "    .dataframe thead th {\n",
       "        text-align: right;\n",
       "    }\n",
       "</style>\n",
       "<table border=\"1\" class=\"dataframe\">\n",
       "  <thead>\n",
       "    <tr style=\"text-align: right;\">\n",
       "      <th></th>\n",
       "      <th>국어</th>\n",
       "      <th>영어</th>\n",
       "      <th>수학</th>\n",
       "      <th>체육</th>\n",
       "    </tr>\n",
       "  </thead>\n",
       "  <tbody>\n",
       "    <tr>\n",
       "      <th>0</th>\n",
       "      <td>50.0</td>\n",
       "      <td>88</td>\n",
       "      <td>21.0</td>\n",
       "      <td>상</td>\n",
       "    </tr>\n",
       "    <tr>\n",
       "      <th>1</th>\n",
       "      <td>41.0</td>\n",
       "      <td>87</td>\n",
       "      <td>54.0</td>\n",
       "      <td>중</td>\n",
       "    </tr>\n",
       "    <tr>\n",
       "      <th>2</th>\n",
       "      <td>85.0</td>\n",
       "      <td>65</td>\n",
       "      <td>84.0</td>\n",
       "      <td>상</td>\n",
       "    </tr>\n",
       "    <tr>\n",
       "      <th>3</th>\n",
       "      <td>61.0</td>\n",
       "      <td>85</td>\n",
       "      <td>13.0</td>\n",
       "      <td>중</td>\n",
       "    </tr>\n",
       "    <tr>\n",
       "      <th>4</th>\n",
       "      <td>54.0</td>\n",
       "      <td>41</td>\n",
       "      <td>21.0</td>\n",
       "      <td>하</td>\n",
       "    </tr>\n",
       "    <tr>\n",
       "      <th>5</th>\n",
       "      <td>84.0</td>\n",
       "      <td>47</td>\n",
       "      <td>87.0</td>\n",
       "      <td>하</td>\n",
       "    </tr>\n",
       "    <tr>\n",
       "      <th>6</th>\n",
       "      <td>77.0</td>\n",
       "      <td>98</td>\n",
       "      <td>65.0</td>\n",
       "      <td>상</td>\n",
       "    </tr>\n",
       "    <tr>\n",
       "      <th>7</th>\n",
       "      <td>87.0</td>\n",
       "      <td>58</td>\n",
       "      <td>NaN</td>\n",
       "      <td>중</td>\n",
       "    </tr>\n",
       "    <tr>\n",
       "      <th>8</th>\n",
       "      <td>NaN</td>\n",
       "      <td>22</td>\n",
       "      <td>78.0</td>\n",
       "      <td>하</td>\n",
       "    </tr>\n",
       "  </tbody>\n",
       "</table>\n",
       "</div>"
      ],
      "text/plain": [
       "     국어  영어    수학 체육\n",
       "0  50.0  88  21.0  상\n",
       "1  41.0  87  54.0  중\n",
       "2  85.0  65  84.0  상\n",
       "3  61.0  85  13.0  중\n",
       "4  54.0  41  21.0  하\n",
       "5  84.0  47  87.0  하\n",
       "6  77.0  98  65.0  상\n",
       "7  87.0  58   NaN  중\n",
       "8   NaN  22  78.0  하"
      ]
     },
     "execution_count": 28,
     "metadata": {},
     "output_type": "execute_result"
    }
   ],
   "source": [
    "df_f = pd.read_csv(\"lib/국영수2.csv\", encoding = 'cp949')\n",
    "df_f"
   ]
  },
  {
   "cell_type": "markdown",
   "id": "b5f64f90-bd03-430e-8fb0-9a180fb2e7c3",
   "metadata": {},
   "source": [
    "```python\n",
    "위 df_f 파일에서 fillna 함수를 실행해도 적용되지 않음\n",
    "체육 값은 텍스트로 되어 있기 때문에 평균, 중앙값이 작동하지 않기 때문\n",
    "채육 값 나머지를 선택해야함\n",
    "```"
   ]
  },
  {
   "cell_type": "code",
   "execution_count": 35,
   "id": "a890e065-1d03-42ae-9068-843681b59515",
   "metadata": {},
   "outputs": [
    {
     "name": "stdout",
     "output_type": "stream",
     "text": [
      "     국어  영어    수학\n",
      "0  50.0  88  21.0\n",
      "1  41.0  87  54.0\n",
      "2  85.0  65  84.0\n",
      "3  61.0  85  13.0\n",
      "4  54.0  41  21.0\n",
      "5  84.0  47  87.0\n",
      "6  77.0  98  65.0\n",
      "7  87.0  58   NaN\n",
      "8   NaN  22  78.0\n"
     ]
    },
    {
     "data": {
      "text/html": [
       "<div>\n",
       "<style scoped>\n",
       "    .dataframe tbody tr th:only-of-type {\n",
       "        vertical-align: middle;\n",
       "    }\n",
       "\n",
       "    .dataframe tbody tr th {\n",
       "        vertical-align: top;\n",
       "    }\n",
       "\n",
       "    .dataframe thead th {\n",
       "        text-align: right;\n",
       "    }\n",
       "</style>\n",
       "<table border=\"1\" class=\"dataframe\">\n",
       "  <thead>\n",
       "    <tr style=\"text-align: right;\">\n",
       "      <th></th>\n",
       "      <th>국어</th>\n",
       "      <th>영어</th>\n",
       "      <th>수학</th>\n",
       "    </tr>\n",
       "  </thead>\n",
       "  <tbody>\n",
       "    <tr>\n",
       "      <th>0</th>\n",
       "      <td>50.0</td>\n",
       "      <td>88</td>\n",
       "      <td>21.0</td>\n",
       "    </tr>\n",
       "    <tr>\n",
       "      <th>1</th>\n",
       "      <td>41.0</td>\n",
       "      <td>87</td>\n",
       "      <td>54.0</td>\n",
       "    </tr>\n",
       "    <tr>\n",
       "      <th>2</th>\n",
       "      <td>85.0</td>\n",
       "      <td>65</td>\n",
       "      <td>84.0</td>\n",
       "    </tr>\n",
       "    <tr>\n",
       "      <th>3</th>\n",
       "      <td>61.0</td>\n",
       "      <td>85</td>\n",
       "      <td>13.0</td>\n",
       "    </tr>\n",
       "    <tr>\n",
       "      <th>4</th>\n",
       "      <td>54.0</td>\n",
       "      <td>41</td>\n",
       "      <td>21.0</td>\n",
       "    </tr>\n",
       "    <tr>\n",
       "      <th>5</th>\n",
       "      <td>84.0</td>\n",
       "      <td>47</td>\n",
       "      <td>87.0</td>\n",
       "    </tr>\n",
       "    <tr>\n",
       "      <th>6</th>\n",
       "      <td>77.0</td>\n",
       "      <td>98</td>\n",
       "      <td>65.0</td>\n",
       "    </tr>\n",
       "    <tr>\n",
       "      <th>7</th>\n",
       "      <td>87.0</td>\n",
       "      <td>58</td>\n",
       "      <td>59.5</td>\n",
       "    </tr>\n",
       "    <tr>\n",
       "      <th>8</th>\n",
       "      <td>69.0</td>\n",
       "      <td>22</td>\n",
       "      <td>78.0</td>\n",
       "    </tr>\n",
       "  </tbody>\n",
       "</table>\n",
       "</div>"
      ],
      "text/plain": [
       "     국어  영어    수학\n",
       "0  50.0  88  21.0\n",
       "1  41.0  87  54.0\n",
       "2  85.0  65  84.0\n",
       "3  61.0  85  13.0\n",
       "4  54.0  41  21.0\n",
       "5  84.0  47  87.0\n",
       "6  77.0  98  65.0\n",
       "7  87.0  58  59.5\n",
       "8  69.0  22  78.0"
      ]
     },
     "execution_count": 35,
     "metadata": {},
     "output_type": "execute_result"
    }
   ],
   "source": [
    "A = df_f.select_dtypes(include=[\"number\"]).columns # 수치가 포함되어있는 변수들만 선택\n",
    "print(df_f[A])\n",
    "\n",
    "df_f[A].fillna(df_f[A].median())"
   ]
  },
  {
   "cell_type": "code",
   "execution_count": 43,
   "id": "e0bd33f8-6928-4e1a-b25f-61e28b4b6f7e",
   "metadata": {},
   "outputs": [],
   "source": [
    "import numpy as np\n",
    "\n",
    "data = {\n",
    "    '나이': [22, 35, 14, 55, 42]\n",
    "}\n",
    "df = pd.DataFrame(data)\n",
    "\n",
    "def categorize (data):\n",
    "    if 0 < data <= 10:\n",
    "        return \"10대\"\n",
    "    elif 10 < data <= 20:\n",
    "        return \"20대\"\n",
    "    elif 20 < data <= 30:\n",
    "        return \"30대\"\n",
    "    else:\n",
    "        return \"30대 이상\"\n",
    "\n",
    "df['검사나이'] = df['나이'].apply(categorize) # apply : 데이터의 행단위로 무언가를 연속으로 진행할 경우"
   ]
  },
  {
   "cell_type": "code",
   "execution_count": 47,
   "id": "b1176eba-b0c2-43e2-be88-95ceac73d9c8",
   "metadata": {},
   "outputs": [
    {
     "name": "stdout",
     "output_type": "stream",
     "text": [
      "   Numeric1  Numeric2 Category\n",
      "0       1.0       5.0      dog\n",
      "3       4.0       8.2     dogg\n"
     ]
    }
   ],
   "source": [
    "data = {\n",
    "    'Numeric1': [1, np.nan, 3, 4],\n",
    "    'Numeric2': [5, 6, np.nan, 8.2],\n",
    "    'Category': ['dog', np.nan, 'cat', 'dogg']\n",
    "}\n",
    "df = pd.DataFrame(data)\n",
    "filter_df = df[df['Category'] == 'dog']\n",
    "filter_df_contains = df[df['Category'].str.contains('do', na=False)]\n",
    "print(filter_df_contains)"
   ]
  },
  {
   "cell_type": "code",
   "execution_count": 50,
   "id": "148a329b-02c2-41e4-b883-646db1e53170",
   "metadata": {},
   "outputs": [
    {
     "data": {
      "text/html": [
       "<div>\n",
       "<style scoped>\n",
       "    .dataframe tbody tr th:only-of-type {\n",
       "        vertical-align: middle;\n",
       "    }\n",
       "\n",
       "    .dataframe tbody tr th {\n",
       "        vertical-align: top;\n",
       "    }\n",
       "\n",
       "    .dataframe thead th {\n",
       "        text-align: right;\n",
       "    }\n",
       "</style>\n",
       "<table border=\"1\" class=\"dataframe\">\n",
       "  <thead>\n",
       "    <tr style=\"text-align: right;\">\n",
       "      <th></th>\n",
       "      <th>variable</th>\n",
       "      <th>new_variable</th>\n",
       "    </tr>\n",
       "  </thead>\n",
       "  <tbody>\n",
       "    <tr>\n",
       "      <th>0</th>\n",
       "      <td>value1-value2-value3</td>\n",
       "      <td>value1-value2-value3</td>\n",
       "    </tr>\n",
       "    <tr>\n",
       "      <th>1</th>\n",
       "      <td>value-3-value4-value5</td>\n",
       "      <td>value-3-value4-value5</td>\n",
       "    </tr>\n",
       "    <tr>\n",
       "      <th>2</th>\n",
       "      <td>vvdfvalue165656</td>\n",
       "      <td>value1</td>\n",
       "    </tr>\n",
       "  </tbody>\n",
       "</table>\n",
       "</div>"
      ],
      "text/plain": [
       "                variable           new_variable\n",
       "0   value1-value2-value3   value1-value2-value3\n",
       "1  value-3-value4-value5  value-3-value4-value5\n",
       "2        vvdfvalue165656                 value1"
      ]
     },
     "execution_count": 50,
     "metadata": {},
     "output_type": "execute_result"
    }
   ],
   "source": [
    "df = pd.DataFrame({\n",
    "    'variable': ['value1-value2-value3', \"value-3-value4-value5\", \"vvdfvalue165656\"]\n",
    "})\n",
    "\n",
    "df['new_variable'] = df['variable'].replace({'vvdfvalue165656': 'value1'})\n",
    "\n",
    "df"
   ]
  },
  {
   "cell_type": "code",
   "execution_count": 52,
   "id": "f8d31629-4cbf-4af3-93d1-cdd0a110784e",
   "metadata": {},
   "outputs": [
    {
     "name": "stdout",
     "output_type": "stream",
     "text": [
      "0    value1\n",
      "1       NaN\n",
      "2    value1\n",
      "Name: new_variable, dtype: object\n",
      "0    value2\n",
      "1       NaN\n",
      "2       NaN\n",
      "Name: new_variable, dtype: object\n"
     ]
    }
   ],
   "source": [
    "# 특정 문자가 포함되어 있으면 전체를 해당 문자로 변경(전체에서 찾음)\n",
    "df[\"new_variable\"] = df['variable'].str.extract(r'(value1)')\n",
    "print(df[\"new_variable\"])\n",
    "\n",
    "df[\"new_variable\"] = df['variable'].str.extract(r'(value2)')\n",
    "print(df[\"new_variable\"])"
   ]
  },
  {
   "cell_type": "code",
   "execution_count": 65,
   "id": "8c084db7-91f3-4bd9-9602-5922de692496",
   "metadata": {},
   "outputs": [
    {
     "data": {
      "text/html": [
       "<div>\n",
       "<style scoped>\n",
       "    .dataframe tbody tr th:only-of-type {\n",
       "        vertical-align: middle;\n",
       "    }\n",
       "\n",
       "    .dataframe tbody tr th {\n",
       "        vertical-align: top;\n",
       "    }\n",
       "\n",
       "    .dataframe thead th {\n",
       "        text-align: right;\n",
       "    }\n",
       "</style>\n",
       "<table border=\"1\" class=\"dataframe\">\n",
       "  <thead>\n",
       "    <tr style=\"text-align: right;\">\n",
       "      <th></th>\n",
       "      <th>variable</th>\n",
       "    </tr>\n",
       "  </thead>\n",
       "  <tbody>\n",
       "    <tr>\n",
       "      <th>0</th>\n",
       "      <td>value1-value2-value3</td>\n",
       "    </tr>\n",
       "    <tr>\n",
       "      <th>1</th>\n",
       "      <td>value4-value5</td>\n",
       "    </tr>\n",
       "    <tr>\n",
       "      <th>2</th>\n",
       "      <td>value6</td>\n",
       "    </tr>\n",
       "  </tbody>\n",
       "</table>\n",
       "</div>"
      ],
      "text/plain": [
       "               variable\n",
       "0  value1-value2-value3\n",
       "1         value4-value5\n",
       "2                value6"
      ]
     },
     "execution_count": 65,
     "metadata": {},
     "output_type": "execute_result"
    }
   ],
   "source": [
    "df = pd.DataFrame({\n",
    "    'variable': ['value1-value2-value3', \"value4-value5\", \"value6\"]\n",
    "})\n",
    "\n",
    "spilt_df = df['variable'].str.split('-', expand = True)\n",
    "# expand -> 나눠서 각각 데이터프레임을 생성하도록 만드는 옵션\n",
    "\n",
    "spilt_df.columns = ['var1', 'var2', 'var3']\n",
    "\n",
    "df"
   ]
  },
  {
   "cell_type": "code",
   "execution_count": 66,
   "id": "4571ea62-c949-4684-9d16-4920d57df50c",
   "metadata": {},
   "outputs": [
    {
     "data": {
      "text/html": [
       "<div>\n",
       "<style scoped>\n",
       "    .dataframe tbody tr th:only-of-type {\n",
       "        vertical-align: middle;\n",
       "    }\n",
       "\n",
       "    .dataframe tbody tr th {\n",
       "        vertical-align: top;\n",
       "    }\n",
       "\n",
       "    .dataframe thead th {\n",
       "        text-align: right;\n",
       "    }\n",
       "</style>\n",
       "<table border=\"1\" class=\"dataframe\">\n",
       "  <thead>\n",
       "    <tr style=\"text-align: right;\">\n",
       "      <th></th>\n",
       "      <th>variable</th>\n",
       "    </tr>\n",
       "  </thead>\n",
       "  <tbody>\n",
       "    <tr>\n",
       "      <th>0</th>\n",
       "      <td>value</td>\n",
       "    </tr>\n",
       "    <tr>\n",
       "      <th>1</th>\n",
       "      <td>value</td>\n",
       "    </tr>\n",
       "    <tr>\n",
       "      <th>2</th>\n",
       "      <td>value</td>\n",
       "    </tr>\n",
       "  </tbody>\n",
       "</table>\n",
       "</div>"
      ],
      "text/plain": [
       "  variable\n",
       "0    value\n",
       "1    value\n",
       "2    value"
      ]
     },
     "execution_count": 66,
     "metadata": {},
     "output_type": "execute_result"
    }
   ],
   "source": [
    "df = pd.DataFrame({\n",
    "    'variable': ['value1-value2-value3', \"value4-value5\", \"value6\"]\n",
    "})\n",
    "\n",
    "df['variable'] = df['variable'].str[0:5] # 해당 위치에 포함되는 문자를 추출함\n",
    "df['variable'] = df['variable'].str[0:5] + df['variable'].str[6:12]\n",
    "df"
   ]
  },
  {
   "cell_type": "code",
   "execution_count": null,
   "id": "9f3b2b47-a7c9-422a-acaa-d69eff0da6a1",
   "metadata": {},
   "outputs": [],
   "source": [
    "df = pd.DataFrame({\n",
    "    'variable': ['value1-value2-value3', \"value4-value5\", \"value6\"]\n",
    "})\n",
    "\n",
    "df['var1'] = df['var1'].astype(str)\n",
    "df['var2'] = df['var2'].astype(str)\n",
    "df['var3'] = df['var3'].astype(str)\n",
    "df['combined'] = df['var1'] + '-' + df['var2'] + '-' + df['var3']"
   ]
  },
  {
   "cell_type": "code",
   "execution_count": null,
   "id": "02fb9edd-036c-46ca-b2a1-aafefe16560a",
   "metadata": {},
   "outputs": [],
   "source": []
  }
 ],
 "metadata": {
  "kernelspec": {
   "display_name": "data_preprocessing",
   "language": "python",
   "name": "preprocessing"
  },
  "language_info": {
   "codemirror_mode": {
    "name": "ipython",
    "version": 3
   },
   "file_extension": ".py",
   "mimetype": "text/x-python",
   "name": "python",
   "nbconvert_exporter": "python",
   "pygments_lexer": "ipython3",
   "version": "3.12.7"
  }
 },
 "nbformat": 4,
 "nbformat_minor": 5
}
