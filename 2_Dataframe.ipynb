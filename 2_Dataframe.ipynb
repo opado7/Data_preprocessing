{
 "cells": [
  {
   "cell_type": "code",
   "execution_count": 8,
   "id": "506f8286-5ce6-4801-a134-e37494dee65b",
   "metadata": {},
   "outputs": [
    {
     "name": "stdout",
     "output_type": "stream",
     "text": [
      "[[1 2 3]\n",
      " [4 5 6]]\n"
     ]
    }
   ],
   "source": [
    "import numpy as np\n",
    "\n",
    "a = np.array([[1,2,3],[4,5,6]])\n",
    "b = np.array([[5,6,7],[8,9,10]])\n",
    "\n",
    "print(a)"
   ]
  },
  {
   "cell_type": "code",
   "execution_count": 9,
   "id": "050305fa-6a19-4578-acff-b21a0e7aa022",
   "metadata": {},
   "outputs": [
    {
     "name": "stdout",
     "output_type": "stream",
     "text": [
      "안\n"
     ]
    }
   ],
   "source": [
    "A = \"안녕하세요 지금은 데이터 전처리 수업 시간입니다.\"\n",
    "print(A[0])"
   ]
  },
  {
   "cell_type": "code",
   "execution_count": 10,
   "id": "05e58ac8-1423-467f-8080-38c4c83fe077",
   "metadata": {},
   "outputs": [
    {
     "name": "stdout",
     "output_type": "stream",
     "text": [
      "안녕하세요 \n",
      " 반갑습니다.\n",
      "이번 시험의 성적으로 3점을 맞았습니다.\n",
      "이번 시험의 성적으로 3.333점을 맞았습니다.\n",
      "이번 시험의 성적으로 100점을 맞았습니다.\n",
      "이번 시험에서 수학은 100점 영어는 100점 국어는 100점을 맞았습니다.\n",
      "3.14,3.141\n"
     ]
    }
   ],
   "source": [
    "print(\"안녕하세요 \\n 반갑습니다.\")\n",
    "print(\"이번 시험의 성적으로 %d점을 맞았습니다.\"%3)\n",
    "print(\"이번 시험의 성적으로 %0.3f점을 맞았습니다.\"%3.33333)\n",
    "print((\"이번 시험의 성적으로 {}점을 맞았습니다.\").format(100))\n",
    "print((\"이번 시험에서 수학은 {}점 영어는 {}점 국어는 {}점을 맞았습니다.\").format(100, 100, 100))\n",
    "print((\"{:.2f},{:.3f}\").format(3.1415, 3.1414))"
   ]
  },
  {
   "cell_type": "code",
   "execution_count": 15,
   "id": "972f9530-c613-4b2a-9a28-be5c216feb8d",
   "metadata": {},
   "outputs": [
    {
     "name": "stdout",
     "output_type": "stream",
     "text": [
      "안녕하세요 지금은 데이터 전처리 수업 시간입니다.\n",
      " 지금은 데이터 전처리 수업 시간입니다.\n"
     ]
    }
   ],
   "source": [
    "print(A)\n",
    "b = A.replace(\"안녕하세요\", \"\")\n",
    "print(b)"
   ]
  },
  {
   "cell_type": "code",
   "execution_count": 16,
   "id": "5616fd90-ebca-4987-a564-b1fc08b585db",
   "metadata": {},
   "outputs": [
    {
     "data": {
      "text/plain": [
       "70"
      ]
     },
     "execution_count": 16,
     "metadata": {},
     "output_type": "execute_result"
    }
   ],
   "source": [
    "a = [10, 20, 30, 40, 50, 60, 70, 80, 90]\n",
    "\n",
    "a[0] + a[5]"
   ]
  },
  {
   "cell_type": "code",
   "execution_count": 40,
   "id": "a8b22f3d-285f-4407-9cd4-cadcf7e16c0a",
   "metadata": {},
   "outputs": [
    {
     "name": "stdout",
     "output_type": "stream",
     "text": [
      "독고영재 ,  김철수\n"
     ]
    }
   ],
   "source": [
    "a = [\"독고영재, 50\", \"김철수, 30\"]\n",
    "b = [\"김철수, 20\", \"김영희, 25\"]\n",
    "print(a[0][:a[0].index(\",\")], \", \", b[0][:b[0].index(\",\")])"
   ]
  },
  {
   "cell_type": "code",
   "execution_count": 44,
   "id": "ad2d3afa-dbbc-45cf-b929-d41c2d2a68d0",
   "metadata": {},
   "outputs": [
    {
     "name": "stdout",
     "output_type": "stream",
     "text": [
      "값 제거:  ['hi', '80', 'Kim', 50, 50.6]\n",
      "값 추가:  ['hi', '80', 'Kim', 50, 50.6, '4/13']\n"
     ]
    }
   ],
   "source": [
    "a = [\"hi\", 10, \"80\", \"Kim\", 50, 50.6]\n",
    "\n",
    "a.pop(1) # index 1에 있는 값 제거\n",
    "print('값 제거: ', a)\n",
    "\n",
    "a.append(\"4/13\") # 값 맨 뒤에 추가\n",
    "print('값 추가: ', a)"
   ]
  },
  {
   "cell_type": "code",
   "execution_count": 51,
   "id": "41a55cfa-7973-47d8-b0ed-84041687d58a",
   "metadata": {},
   "outputs": [
    {
     "name": "stdout",
     "output_type": "stream",
     "text": [
      "배열 추가: [1 7 8 2 3 4 4 5]\n",
      "배열 인덱스 제거: [1 8 3 4 4 5]\n",
      "[1 3 4 4]\n",
      "[1 8 3 5]\n"
     ]
    }
   ],
   "source": [
    "b = np.array([1,2,3,4])\n",
    "b = np.append(b, [4,5])\n",
    "\n",
    "# index 1에 [7, 8] 추가\n",
    "b = np.insert(b, 1, [7, 8])\n",
    "\n",
    "print('배열 추가:', b)\n",
    "\n",
    "# index 1, 3 에 있는 값 제거\n",
    "b = np.delete(b, [1, 3])\n",
    "print('배열 인덱스 제거:', b)\n",
    "\n",
    "print(b[b<=4])\n",
    "print(b[b!=4])"
   ]
  },
  {
   "cell_type": "code",
   "execution_count": 55,
   "id": "2ba7243e-032d-4e5d-9407-da823c46ffaf",
   "metadata": {},
   "outputs": [
    {
     "name": "stdout",
     "output_type": "stream",
     "text": [
      "Vertical Merge: [[1 2]\n",
      " [3 4]\n",
      " [5 6]\n",
      " [7 8]]\n",
      "Horizontal Merge: [[1 2 5 6]\n",
      " [3 4 7 8]]\n"
     ]
    }
   ],
   "source": [
    "arr1 = np.array([[1,2], [3,4]])\n",
    "arr2 = np.array([[5,6], [7,8]])\n",
    "\n",
    "# Data Vertical Merge\n",
    "merge_verarr = np.vstack((arr1, arr2))\n",
    "print('Vertical Merge:', merge_verarr)\n",
    "\n",
    "# Data Horizontal Merge\n",
    "merge_harr = np.hstack((arr1, arr2))\n",
    "print('Horizontal Merge:', merge_harr)"
   ]
  },
  {
   "cell_type": "code",
   "execution_count": 68,
   "id": "8db8b3c3-9bf7-49e7-bdda-4b5db2b39ba1",
   "metadata": {},
   "outputs": [
    {
     "name": "stdout",
     "output_type": "stream",
     "text": [
      "a[1]= Kim \n",
      "a[20]= Park \n",
      "a.get(1)= Kim \n",
      "a.get(3)= None\n",
      "Add Dict: {1: 'Kim', 20: 'Park', '2-a': 'Pak'}\n",
      "Delete Dict: {1: 'Kim', '2-a': 'Pak'}\n"
     ]
    }
   ],
   "source": [
    "# Dictonary\n",
    "\n",
    "a = {1: \"Kim\", 20: \"Park\"}\n",
    "print('a[1]=', a[1], '\\na[20]=', a[20], '\\na.get(1)=', a.get(1), '\\na.get(3)=', a.get(3))\n",
    "\n",
    "# Add Dict\n",
    "a[\"2-a\"] = \"Pak\"\n",
    "print('Add Dict:',a)\n",
    "\n",
    "# Delete Dict\n",
    "del a[20]\n",
    "print('Delete Dict:',a)"
   ]
  }
 ],
 "metadata": {
  "kernelspec": {
   "display_name": "data_preprocessing",
   "language": "python",
   "name": "preprocessing"
  },
  "language_info": {
   "codemirror_mode": {
    "name": "ipython",
    "version": 3
   },
   "file_extension": ".py",
   "mimetype": "text/x-python",
   "name": "python",
   "nbconvert_exporter": "python",
   "pygments_lexer": "ipython3",
   "version": "3.12.7"
  }
 },
 "nbformat": 4,
 "nbformat_minor": 5
}
